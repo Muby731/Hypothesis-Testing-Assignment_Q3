{
 "cells": [
  {
   "cell_type": "markdown",
   "id": "3c6cf594",
   "metadata": {},
   "source": [
    "## Importing necessary libraries"
   ]
  },
  {
   "cell_type": "code",
   "execution_count": 1,
   "id": "651dc2c0",
   "metadata": {},
   "outputs": [],
   "source": [
    "import pandas as pd\n",
    "import numpy as np\n",
    "import scipy.stats\n",
    "from scipy.stats import norm\n",
    "from scipy.stats import chi2_contingency"
   ]
  },
  {
   "cell_type": "code",
   "execution_count": 2,
   "id": "97d329f2",
   "metadata": {},
   "outputs": [
    {
     "data": {
      "text/html": [
       "<div>\n",
       "<style scoped>\n",
       "    .dataframe tbody tr th:only-of-type {\n",
       "        vertical-align: middle;\n",
       "    }\n",
       "\n",
       "    .dataframe tbody tr th {\n",
       "        vertical-align: top;\n",
       "    }\n",
       "\n",
       "    .dataframe thead th {\n",
       "        text-align: right;\n",
       "    }\n",
       "</style>\n",
       "<table border=\"1\" class=\"dataframe\">\n",
       "  <thead>\n",
       "    <tr style=\"text-align: right;\">\n",
       "      <th></th>\n",
       "      <th>Observed Values</th>\n",
       "      <th>East</th>\n",
       "      <th>West</th>\n",
       "      <th>North</th>\n",
       "      <th>South</th>\n",
       "    </tr>\n",
       "  </thead>\n",
       "  <tbody>\n",
       "    <tr>\n",
       "      <th>0</th>\n",
       "      <td>Males</td>\n",
       "      <td>50</td>\n",
       "      <td>142</td>\n",
       "      <td>131</td>\n",
       "      <td>70</td>\n",
       "    </tr>\n",
       "    <tr>\n",
       "      <th>1</th>\n",
       "      <td>Females</td>\n",
       "      <td>435</td>\n",
       "      <td>1523</td>\n",
       "      <td>1356</td>\n",
       "      <td>750</td>\n",
       "    </tr>\n",
       "  </tbody>\n",
       "</table>\n",
       "</div>"
      ],
      "text/plain": [
       "  Observed Values  East  West  North  South\n",
       "0           Males    50   142    131     70\n",
       "1         Females   435  1523   1356    750"
      ]
     },
     "execution_count": 2,
     "metadata": {},
     "output_type": "execute_result"
    }
   ],
   "source": [
    "buyer_ratio_data = pd.read_csv('BuyerRatio.csv')       # Importing dataset\n",
    "buyer_ratio_data"
   ]
  },
  {
   "cell_type": "markdown",
   "id": "6df20996",
   "metadata": {},
   "source": [
    "### Assume -  \n",
    "\n",
    "**Null Hypothesis (Ho): All proportions are equal (male-female buyer rations are similar across regions does not vary and are not significantly related)**\n",
    "\n",
    "**Alternate Hypothesis (Ha): Not all proportions are equal (male-female buyer rations are not similar across regions does vary and are significantly related)**"
   ]
  },
  {
   "cell_type": "code",
   "execution_count": 6,
   "id": "d5e46cc8",
   "metadata": {},
   "outputs": [
    {
     "data": {
      "text/plain": [
       "array([[  50,  142,  131,   70],\n",
       "       [ 435, 1523, 1356,  750]])"
      ]
     },
     "execution_count": 6,
     "metadata": {},
     "output_type": "execute_result"
    }
   ],
   "source": [
    "dimensional_data = np.array([[50,142,131,70],[435,1523,1356,750]])       # Make a contingency table\n",
    "dimensional_data"
   ]
  },
  {
   "cell_type": "markdown",
   "id": "87f0fbf6",
   "metadata": {},
   "source": [
    "#### Chi2 contingency independence test"
   ]
  },
  {
   "cell_type": "code",
   "execution_count": 4,
   "id": "18070d51",
   "metadata": {},
   "outputs": [
    {
     "data": {
      "text/plain": [
       "(1.595945538661058,\n",
       " 0.6603094907091882,\n",
       " 3,\n",
       " array([[  42.76531299,  146.81287862,  131.11756787,   72.30424052],\n",
       "        [ 442.23468701, 1518.18712138, 1355.88243213,  747.69575948]]))"
      ]
     },
     "execution_count": 4,
     "metadata": {},
     "output_type": "execute_result"
    }
   ],
   "source": [
    "chi2_contingency(dimensional_data) # o/p is (Chi2 stats value, p_value, df, expected observations)"
   ]
  },
  {
   "cell_type": "markdown",
   "id": "d74dfcac",
   "metadata": {},
   "source": [
    "### Comparing p-value with alpha(0.05)\n",
    "\n",
    "### Inference\n",
    "\n",
    "##### Since p_value 0.66 > 0.05"
   ]
  },
  {
   "cell_type": "markdown",
   "id": "4cbd4be8",
   "metadata": {},
   "source": [
    "##### Null Hypothesis is accepted i.e. Independence of categorical variables."
   ]
  },
  {
   "cell_type": "markdown",
   "id": "19c8af38",
   "metadata": {},
   "source": [
    "##### Therefore, we can conclude that the male-female buyer rations are not similar across regions does not vary and are not significantly related."
   ]
  },
  {
   "cell_type": "markdown",
   "id": "12c536cc",
   "metadata": {},
   "source": [
    "**------------------------------------------------------------------------------------------------------------------------------------------------------------------------------------------------------------------**"
   ]
  }
 ],
 "metadata": {
  "kernelspec": {
   "display_name": "Python 3",
   "language": "python",
   "name": "python3"
  },
  "language_info": {
   "codemirror_mode": {
    "name": "ipython",
    "version": 3
   },
   "file_extension": ".py",
   "mimetype": "text/x-python",
   "name": "python",
   "nbconvert_exporter": "python",
   "pygments_lexer": "ipython3",
   "version": "3.8.8"
  }
 },
 "nbformat": 4,
 "nbformat_minor": 5
}
